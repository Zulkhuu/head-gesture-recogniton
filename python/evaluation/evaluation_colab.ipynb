{
  "nbformat": 4,
  "nbformat_minor": 0,
  "metadata": {
    "colab": {
      "name": "Untitled0.ipynb",
      "version": "0.3.2",
      "provenance": [],
      "collapsed_sections": [],
      "toc_visible": true
    },
    "kernelspec": {
      "name": "python3",
      "display_name": "Python 3"
    },
    "accelerator": "GPU"
  },
  "cells": [
    {
      "metadata": {
        "colab_type": "text",
        "id": "kyxneJCspBiP"
      },
      "cell_type": "markdown",
      "source": [
        "[View in Colaboratory](https://colab.research.google.com/github/Zulkhuu/head-gesture-recogniton/blob/master/python/evaluation/evaluation_colab.ipynb)"
      ]
    },
    {
      "metadata": {
        "id": "L_w2nzYNCj8J",
        "colab_type": "text"
      },
      "cell_type": "markdown",
      "source": [
        "# Show system specification"
      ]
    },
    {
      "metadata": {
        "id": "ciUHzy-oCerk",
        "colab_type": "code",
        "outputId": "1492bc2d-e2c4-4f11-8055-57b2d5639cb5",
        "colab": {
          "base_uri": "https://localhost:8080/",
          "height": 714
        }
      },
      "cell_type": "code",
      "source": [
        "from tensorflow.python.client import device_lib\n",
        "\n",
        "print(\"Show System RAM Memory:\\n\\n\")\n",
        "!cat /proc/meminfo | egrep \"MemTotal*\"\n",
        "\n",
        "print(\"\\n\\nShow Devices:\\n\\n\"+str(device_lib.list_local_devices()))"
      ],
      "execution_count": 8,
      "outputs": [
        {
          "output_type": "stream",
          "text": [
            "Show System RAM Memory:\n",
            "\n",
            "\n",
            "MemTotal:       13335268 kB\n",
            "\n",
            "\n",
            "Show Devices:\n",
            "\n",
            "[name: \"/device:CPU:0\"\n",
            "device_type: \"CPU\"\n",
            "memory_limit: 268435456\n",
            "locality {\n",
            "}\n",
            "incarnation: 9373925412499952192\n",
            ", name: \"/device:XLA_CPU:0\"\n",
            "device_type: \"XLA_CPU\"\n",
            "memory_limit: 17179869184\n",
            "locality {\n",
            "}\n",
            "incarnation: 835672087482960912\n",
            "physical_device_desc: \"device: XLA_CPU device\"\n",
            ", name: \"/device:XLA_GPU:0\"\n",
            "device_type: \"XLA_GPU\"\n",
            "memory_limit: 17179869184\n",
            "locality {\n",
            "}\n",
            "incarnation: 18421103800506272510\n",
            "physical_device_desc: \"device: XLA_GPU device\"\n",
            ", name: \"/device:GPU:0\"\n",
            "device_type: \"GPU\"\n",
            "memory_limit: 11276946637\n",
            "locality {\n",
            "  bus_id: 1\n",
            "  links {\n",
            "  }\n",
            "}\n",
            "incarnation: 3483050383403297710\n",
            "physical_device_desc: \"device: 0, name: Tesla K80, pci bus id: 0000:00:04.0, compute capability: 3.7\"\n",
            "]\n"
          ],
          "name": "stdout"
        }
      ]
    },
    {
      "metadata": {
        "id": "sDiRB8UKCwW5",
        "colab_type": "text"
      },
      "cell_type": "markdown",
      "source": [
        "# Download Dependencies to Google Colab Environment\n",
        "\n",
        "This may take several minutes but needs to only be run once per session. Every Google Colab session has temporary storage for assets such as images and other scripts. When the session is closed these objects will be removed but the notebook will remain intact.\n",
        "\n",
        "*Run the cell below to download necessary dependencies. After this is complete you can navigate to the FILES tab on the left and select refresh - you should see the files listed.*"
      ]
    },
    {
      "metadata": {
        "id": "Q0sAjlRV-y5D",
        "colab_type": "code",
        "outputId": "a4ba2900-a755-489c-e180-3dbac5730155",
        "colab": {
          "base_uri": "https://localhost:8080/",
          "height": 196
        }
      },
      "cell_type": "code",
      "source": [
        "!pip install PyDrive\n",
        "import os\n",
        "from pydrive.auth import GoogleAuth\n",
        "from pydrive.drive import GoogleDrive\n",
        "from google.colab import auth\n",
        "from oauth2client.client import GoogleCredentials\n",
        "\n",
        "auth.authenticate_user()\n",
        "gauth = GoogleAuth()\n",
        "gauth.credentials = GoogleCredentials.get_application_default()\n",
        "drive = GoogleDrive(gauth)"
      ],
      "execution_count": 9,
      "outputs": [
        {
          "output_type": "stream",
          "text": [
            "Requirement already satisfied: PyDrive in /usr/local/lib/python3.6/dist-packages (1.3.1)\n",
            "Requirement already satisfied: oauth2client>=4.0.0 in /usr/local/lib/python3.6/dist-packages (from PyDrive) (4.1.3)\n",
            "Requirement already satisfied: google-api-python-client>=1.2 in /usr/local/lib/python3.6/dist-packages (from PyDrive) (1.6.7)\n",
            "Requirement already satisfied: PyYAML>=3.0 in /usr/local/lib/python3.6/dist-packages (from PyDrive) (3.13)\n",
            "Requirement already satisfied: rsa>=3.1.4 in /usr/local/lib/python3.6/dist-packages (from oauth2client>=4.0.0->PyDrive) (4.0)\n",
            "Requirement already satisfied: pyasn1>=0.1.7 in /usr/local/lib/python3.6/dist-packages (from oauth2client>=4.0.0->PyDrive) (0.4.5)\n",
            "Requirement already satisfied: httplib2>=0.9.1 in /usr/local/lib/python3.6/dist-packages (from oauth2client>=4.0.0->PyDrive) (0.11.3)\n",
            "Requirement already satisfied: pyasn1-modules>=0.0.5 in /usr/local/lib/python3.6/dist-packages (from oauth2client>=4.0.0->PyDrive) (0.2.4)\n",
            "Requirement already satisfied: six>=1.6.1 in /usr/local/lib/python3.6/dist-packages (from oauth2client>=4.0.0->PyDrive) (1.11.0)\n",
            "Requirement already satisfied: uritemplate<4dev,>=3.0.0 in /usr/local/lib/python3.6/dist-packages (from google-api-python-client>=1.2->PyDrive) (3.0.0)\n"
          ],
          "name": "stdout"
        }
      ]
    },
    {
      "metadata": {
        "id": "MsY_k4SeEAf1",
        "colab_type": "text"
      },
      "cell_type": "markdown",
      "source": [
        "# Download dataset\n",
        "Download Face Detection Data Set and Benchmark (FDDB) from Google Drive and unzip.\n",
        "Original dataset link: http://vis-www.cs.umass.edu/fddb/index.html"
      ]
    },
    {
      "metadata": {
        "id": "n7oyUe5bDIXa",
        "colab_type": "code",
        "colab": {}
      },
      "cell_type": "code",
      "source": [
        "# FDDB dataset annotation files id=1HBIPoRFYK763kgOeHG011NAYWdox1Q2Z\n",
        "download = drive.CreateFile({'id': '1HBIPoRFYK763kgOeHG011NAYWdox1Q2Z'})\n",
        "download.GetContentFile('FDDB-folds.tgz')\n",
        "!mkdir -p dataset/FDDB/FDDB-folds\n",
        "!tar xzf FDDB-folds.tgz -C dataset/FDDB/\n",
        "\n",
        "# FDDB dataset image files id=1uEv2I4svspLRwvU-nMwQr7ZL1m5RhIYh\n",
        "download = drive.CreateFile({'id': '1uEv2I4svspLRwvU-nMwQr7ZL1m5RhIYh'})\n",
        "download.GetContentFile('originalPics.tar.gz')\n",
        "!mkdir -p dataset/FDDB/originalPics\n",
        "!tar xzf originalPics.tar.gz -C dataset/FDDB/originalPics/\n",
        "\n",
        "# Pointing04 dataset image files id=1vClo8TVoAAdlRyn06VHuMB-SlwklAIVP\n",
        "download = drive.CreateFile({'id': '1vClo8TVoAAdlRyn06VHuMB-SlwklAIVP'})\n",
        "download.GetContentFile('P04DB.tar.gz')\n",
        "!mkdir -p dataset/P04DB/originalPics\n",
        "!mkdir -p dataset/P04DB/P04DB-folds\n",
        "!tar xzf P04DB.tar.gz -C dataset/P04DB/originalPics/"
      ],
      "execution_count": 0,
      "outputs": []
    },
    {
      "metadata": {
        "id": "mkpfW9OpGxHB",
        "colab_type": "text"
      },
      "cell_type": "markdown",
      "source": [
        "#Run Face Detection on dataset"
      ]
    },
    {
      "metadata": {
        "id": "O4_470ndG0XD",
        "colab_type": "code",
        "outputId": "c10ce933-70d0-4eea-906f-ab94a4def0bb",
        "colab": {
          "base_uri": "https://localhost:8080/",
          "height": 3018
        }
      },
      "cell_type": "code",
      "source": [
        "!pip install mtcnn\n",
        "!pip install progressbar2\n",
        "import cv2\n",
        "import numpy as np\n",
        "import pandas as pd\n",
        "import itertools\n",
        "import progressbar\n",
        "import time\n",
        "import matplotlib.pyplot as plt\n",
        "from mtcnn.mtcnn import MTCNN\n",
        "\n",
        "detector = MTCNN()\n",
        "detector_name = 'mtcnn'\n",
        "\n",
        "def face_detect(image):\n",
        "    \"\"\"\n",
        "    input: opencv image\n",
        "    return: <left_x top_y width height detection_score>\n",
        "    \"\"\"\n",
        "    dets = detector.detect_faces(image)\n",
        "    results = []\n",
        "    for det in dets:\n",
        "        results.append('{:.6f} {:.6f} {:.6f} {:.6f} {:.6f}'.format(det['box'][0],det['box'][1],det['box'][2],det['box'][3],det['confidence']))\n",
        "    return results\n",
        "\n",
        "#Test FDDB dataset which is placed in ../dataset/FDDB\n",
        "def test_fddb():\n",
        "    database_path = 'dataset/FDDB'\n",
        "    db_image_path = '{:s}/originalPics'.format(database_path)\n",
        "    db_annotation_path = '{:s}/FDDB-folds'.format(database_path)\n",
        "    n_fold = 10\n",
        "    for i in range(n_fold):\n",
        "        list_filename = '{:s}/FDDB-fold-{:02d}.txt'.format(db_annotation_path, i+1)\n",
        "        output_filename = '{:s}/FDDB-fold-{:02d}-{:s}-result.txt'.format(db_annotation_path, i+1, detector_name)\n",
        "        output_file = open(output_filename,mode='w')\n",
        "        print('\\r({:d}/{:d}) Detecting faces from image list in {:s} file'.format(i+1, n_fold, list_filename))\n",
        "        with progressbar.ProgressBar(maxval=len(open(list_filename).readlines())) as bar:\n",
        "            n = 0\n",
        "            with open(list_filename) as f:\n",
        "                for image_filename in f:\n",
        "                    bar.update(n)\n",
        "                    n += 1\n",
        "                    full_filename = '{:s}/{:s}.jpg'.format(db_image_path,image_filename.rstrip())\n",
        "                    output_file.write(image_filename)\n",
        "                    print(full_filename)\n",
        "                    image_cv2 = cv2.imread(full_filename)\n",
        "                    results = face_detect(image_cv2)\n",
        "                    output_file.write('{:d}\\n'.format(len(results)))\n",
        "                    for result in results:\n",
        "                        output_file.write('{:s}\\n'.format(result))\n",
        "\n",
        "#test_fddb()\n",
        "\n",
        "def run_on_P04B():\n",
        "    database_path = 'dataset/P04DB'\n",
        "    db_image_path = '{:s}/originalPics/P04DB'.format(database_path)\n",
        "    result_path = '{:s}/P04DB-folds'.format(database_path)\n",
        "    n_fold = 15\n",
        "    for i in range(n_fold):\n",
        "        output_filename = '{:s}/Personne{:02d}-{:s}-result.txt'.format(result_path, i+1, detector_name)\n",
        "        output_file = open(output_filename,mode='w')\n",
        "        print('\\n\\n({:d}/{:d}) Detecting faces from images in Personne{:02d} directory'.format(i+1, n_fold, i+1))\n",
        "        subfolder_name = '{:s}/Personne{:02d}'.format(db_image_path, i+1)\n",
        "        \n",
        "        with progressbar.ProgressBar(maxval=len(os.listdir(subfolder_name))) as bar:\n",
        "            n = 0\n",
        "            for image_filename in os.listdir(subfolder_name):\n",
        "                full_filename = '{:s}/{:s}.jpg'.format(subfolder_name, image_filename.split('.')[0]) \n",
        "                #print(image_filename.split('.')[0])\n",
        "                output_file.write('{:s}\\n'.format(full_filename))\n",
        "                image_cv2 = cv2.imread(full_filename)\n",
        "                results = face_detect(image_cv2)\n",
        "                output_file.write('{:d}\\n'.format(len(results)))\n",
        "                for result in results:\n",
        "                    output_file.write('{:s}\\n'.format(result))\n",
        "                n += 1\n",
        "                bar.update(n)\n",
        "        '''\n",
        "            with open(list_filename) as f:\n",
        "                for image_filename in f:\n",
        "                    full_filename = '{:s}/{:s}.jpg'.format(db_image_path,image_filename.rstrip())\n",
        "                    output_file.write(image_filename)\n",
        "                    image_cv2 = cv2.imread(full_filename)\n",
        "                    results = face_detect(image_cv2)\n",
        "                    output_file.write('{:d}\\n'.format(len(results)))\n",
        "                    for result in results:\n",
        "                        output_file.write('{:s}\\n'.format(result))\n",
        "        '''\n",
        "        \n",
        "def parse_p04db_filename(filename):\n",
        "    #Decode dataset filename\n",
        "    filename = filename.split('/')[-1].split('.')[0]   \n",
        "    pid = int(filename[8:10])\n",
        "    serie = int(filename[10])\n",
        "    if(filename[14] == '0'):\n",
        "        vert = int(filename[13:15])\n",
        "        if(filename[16] == '0'):\n",
        "            horz = int(filename[15:17])\n",
        "        else:\n",
        "            horz = int(filename[15:18])\n",
        "    else:\n",
        "        vert = int(filename[13:16])\n",
        "        if(filename[17] == '0'):\n",
        "            horz = int(filename[16:18])\n",
        "        else:\n",
        "            horz = int(filename[16:19])\n",
        "    #print('Filename:{:s} Person ID:{:d} Serie{:d} Vert:{:d} Vert:{:d}'.format(filename, pid, serie, vert,horz))\n",
        "    return pid, serie, vert,horz\n",
        "    \n",
        "def show_P04DB_result():\n",
        "    vert_angles = [-90, -60, -30, -15, 0, +15, +30, +60, +90]\n",
        "    horz_angles = [-90, -75, -60, -45, -30, -15, 0, +15, +30, +45, +60, +75, +90]\n",
        "    database_path = 'dataset/P04DB'\n",
        "    result_path = '{:s}/P04DB-folds'.format(database_path)\n",
        "    results = []\n",
        "    labels = ['Person ID', 'Series', 'Vertical angle', 'Horizontal angle', 'Number of faces', 'Detection result']\n",
        "    n_fold = 15\n",
        "    for i in range(n_fold):\n",
        "        result_filename = '{:s}/Personne{:02d}-{:s}-result.txt'.format(result_path, i+1, detector_name)\n",
        "        file = open(result_filename, \"r\")\n",
        "        #print (\"Name of the file: \", file.name)\n",
        "        n = 0\n",
        "        while(n<len(open(result_filename).readlines())):\n",
        "        #with open(result_filename) as file:\n",
        "            filename = next(file)\n",
        "            pid, serie, vert,horz = parse_p04db_filename(filename)\n",
        "            n += 1\n",
        "            n_faces = int(next(file))\n",
        "            n += 1\n",
        "            det_result = []\n",
        "            for i in range(n_faces):\n",
        "                det_result.append(next(file))\n",
        "                n += 1\n",
        "            #print(n_faces)\n",
        "            results.append([pid, serie, vert, horz, n_faces, det_result])\n",
        "    \n",
        "    df = pd.DataFrame.from_records(results, columns=labels)\n",
        "    #detected = df.groupby(\"Number of faces\").filter(lambda x: x.mean() > 0)\n",
        "    \n",
        "    result_by_horz_angle = {}\n",
        "    for horz_angle in horz_angles:\n",
        "        detected = len(df[(df['Horizontal angle'] == int(horz_angle)) & (df['Number of faces'] == 1)])\n",
        "        not_detected = len(df[(df['Horizontal angle'] == int(horz_angle)) & (df['Number of faces'] == 0)])\n",
        "        percentage = 100*detected/(detected + not_detected)\n",
        "        result_by_horz_angle[horz_angle] = percentage\n",
        "    print('\\nDetection result by horizontal angle:')\n",
        "    for key in result_by_horz_angle:\n",
        "        print('{}:{}'.format(key, result_by_horz_angle[key]))\n",
        "  \n",
        "    result_by_vert_angle = {}\n",
        "    for vert_angle in vert_angles:\n",
        "        detected = len(df[(df['Vertical angle'] == int(vert_angle)) & (df['Number of faces'] == 1)])\n",
        "        not_detected = len(df[(df['Vertical angle'] == int(vert_angle)) & (df['Number of faces'] == 0)])\n",
        "        percentage = 100*detected/(detected + not_detected)\n",
        "        result_by_vert_angle[vert_angle] = percentage\n",
        "    print('\\nDetection result by vertical angle:')\n",
        "    for key in result_by_vert_angle:\n",
        "        print('{}:{}'.format(key, result_by_vert_angle[key]))\n",
        "\n",
        "    result_by_personne = {}\n",
        "    for i in range(n_fold):\n",
        "        person_id = i+1 #Starts from 1\n",
        "        detected = len(df[(df['Person ID'] == person_id) & (df['Number of faces'] == 1)])\n",
        "        not_detected = len(df[(df['Person ID'] == person_id) & (df['Number of faces'] == 0)])\n",
        "        percentage = 100*detected/(detected + not_detected)\n",
        "        result_by_personne[person_id] = percentage\n",
        "    print('\\nDetection result per person')\n",
        "    for key in result_by_personne:\n",
        "        print('{}:{}'.format(key, result_by_personne[key]))\n",
        "        \n",
        "    detected = len(df[(df['Number of faces'] == 1)])\n",
        "    not_detected = len(df[(df['Number of faces'] == 0)])\n",
        "    overall_detection_rate = 100*detected/(detected + not_detected)\n",
        "    print('\\nDetection rate over whole dataset:{:.02f}%\\n'.format(overall_detection_rate))\n",
        "     \n",
        "    plt.figure(1)\n",
        "    plt.bar(result_by_horz_angle.keys(), result_by_horz_angle.values(), 12, color='g')\n",
        "    plt.xticks(horz_angles)\n",
        "    plt.xlabel('Horizontal angle')\n",
        "    plt.ylabel('Detection rate')\n",
        "    plt.figure(2)\n",
        "    plt.bar(result_by_vert_angle.keys(), result_by_vert_angle.values(), 12, color='g')\n",
        "    plt.xticks(vert_angles)\n",
        "    plt.xlabel('Vertical angle')\n",
        "    plt.ylabel('Detection rate')\n",
        "    plt.figure(3)\n",
        "    plt.bar(result_by_personne.keys(), result_by_personne.values(), color='g')\n",
        "    plt.xticks([x+1 for x in range(n_fold)])\n",
        "    plt.xlabel('Person ID')\n",
        "    plt.ylabel('Detection rate')\n",
        "    plt.show()\n",
        "        \n",
        "\n",
        "    \n",
        "run_on_P04B()\n",
        "show_P04DB_result()"
      ],
      "execution_count": 107,
      "outputs": [
        {
          "output_type": "stream",
          "text": [
            "Requirement already satisfied: mtcnn in /usr/local/lib/python3.6/dist-packages (0.0.8)\n",
            "Requirement already satisfied: progressbar2 in /usr/local/lib/python3.6/dist-packages (3.38.0)\n",
            "Requirement already satisfied: python-utils>=2.3.0 in /usr/local/lib/python3.6/dist-packages (from progressbar2) (2.3.0)\n",
            "Requirement already satisfied: six in /usr/local/lib/python3.6/dist-packages (from progressbar2) (1.11.0)\n"
          ],
          "name": "stdout"
        },
        {
          "output_type": "stream",
          "text": [
            "\r                                                                               \r\rN/A% (0 of 186) |                        | Elapsed Time: 0:00:00 ETA:  --:--:--"
          ],
          "name": "stderr"
        },
        {
          "output_type": "stream",
          "text": [
            "\n",
            "\n",
            "(1/15) Detecting faces from images in Personne01 directory\n"
          ],
          "name": "stdout"
        },
        {
          "output_type": "stream",
          "text": [
            "100% (186 of 186) |######################| Elapsed Time: 0:00:07 Time:  0:00:07\n",
            "  2% (5 of 186) |                        | Elapsed Time: 0:00:00 ETA:   0:00:04"
          ],
          "name": "stderr"
        },
        {
          "output_type": "stream",
          "text": [
            "\n",
            "\n",
            "(2/15) Detecting faces from images in Personne02 directory\n"
          ],
          "name": "stdout"
        },
        {
          "output_type": "stream",
          "text": [
            "100% (186 of 186) |######################| Elapsed Time: 0:00:07 Time:  0:00:07\n",
            "  2% (5 of 186) |                        | Elapsed Time: 0:00:00 ETA:   0:00:05"
          ],
          "name": "stderr"
        },
        {
          "output_type": "stream",
          "text": [
            "\n",
            "\n",
            "(3/15) Detecting faces from images in Personne03 directory\n"
          ],
          "name": "stdout"
        },
        {
          "output_type": "stream",
          "text": [
            "100% (186 of 186) |######################| Elapsed Time: 0:00:06 Time:  0:00:06\n",
            "  2% (5 of 186) |                        | Elapsed Time: 0:00:00 ETA:   0:00:05"
          ],
          "name": "stderr"
        },
        {
          "output_type": "stream",
          "text": [
            "\n",
            "\n",
            "(4/15) Detecting faces from images in Personne04 directory\n"
          ],
          "name": "stdout"
        },
        {
          "output_type": "stream",
          "text": [
            "100% (186 of 186) |######################| Elapsed Time: 0:00:06 Time:  0:00:06\n",
            "  2% (5 of 186) |                        | Elapsed Time: 0:00:00 ETA:   0:00:05"
          ],
          "name": "stderr"
        },
        {
          "output_type": "stream",
          "text": [
            "\n",
            "\n",
            "(5/15) Detecting faces from images in Personne05 directory\n"
          ],
          "name": "stdout"
        },
        {
          "output_type": "stream",
          "text": [
            "100% (186 of 186) |######################| Elapsed Time: 0:00:07 Time:  0:00:07\n",
            "  2% (5 of 186) |                        | Elapsed Time: 0:00:00 ETA:   0:00:05"
          ],
          "name": "stderr"
        },
        {
          "output_type": "stream",
          "text": [
            "\n",
            "\n",
            "(6/15) Detecting faces from images in Personne06 directory\n"
          ],
          "name": "stdout"
        },
        {
          "output_type": "stream",
          "text": [
            "100% (186 of 186) |######################| Elapsed Time: 0:00:06 Time:  0:00:06\n",
            "  2% (5 of 186) |                        | Elapsed Time: 0:00:00 ETA:   0:00:05"
          ],
          "name": "stderr"
        },
        {
          "output_type": "stream",
          "text": [
            "\n",
            "\n",
            "(7/15) Detecting faces from images in Personne07 directory\n"
          ],
          "name": "stdout"
        },
        {
          "output_type": "stream",
          "text": [
            "100% (186 of 186) |######################| Elapsed Time: 0:00:07 Time:  0:00:07\n",
            "  2% (5 of 186) |                        | Elapsed Time: 0:00:00 ETA:   0:00:05"
          ],
          "name": "stderr"
        },
        {
          "output_type": "stream",
          "text": [
            "\n",
            "\n",
            "(8/15) Detecting faces from images in Personne08 directory\n"
          ],
          "name": "stdout"
        },
        {
          "output_type": "stream",
          "text": [
            "100% (186 of 186) |######################| Elapsed Time: 0:00:06 Time:  0:00:06\n",
            "  2% (5 of 186) |                        | Elapsed Time: 0:00:00 ETA:   0:00:05"
          ],
          "name": "stderr"
        },
        {
          "output_type": "stream",
          "text": [
            "\n",
            "\n",
            "(9/15) Detecting faces from images in Personne09 directory\n"
          ],
          "name": "stdout"
        },
        {
          "output_type": "stream",
          "text": [
            "100% (186 of 186) |######################| Elapsed Time: 0:00:07 Time:  0:00:07\n",
            "  2% (5 of 186) |                        | Elapsed Time: 0:00:00 ETA:   0:00:05"
          ],
          "name": "stderr"
        },
        {
          "output_type": "stream",
          "text": [
            "\n",
            "\n",
            "(10/15) Detecting faces from images in Personne10 directory\n"
          ],
          "name": "stdout"
        },
        {
          "output_type": "stream",
          "text": [
            "100% (186 of 186) |######################| Elapsed Time: 0:00:06 Time:  0:00:06\n",
            "  2% (5 of 186) |                        | Elapsed Time: 0:00:00 ETA:   0:00:05"
          ],
          "name": "stderr"
        },
        {
          "output_type": "stream",
          "text": [
            "\n",
            "\n",
            "(11/15) Detecting faces from images in Personne11 directory\n"
          ],
          "name": "stdout"
        },
        {
          "output_type": "stream",
          "text": [
            "100% (186 of 186) |######################| Elapsed Time: 0:00:07 Time:  0:00:07\n",
            "  2% (5 of 186) |                        | Elapsed Time: 0:00:00 ETA:   0:00:05"
          ],
          "name": "stderr"
        },
        {
          "output_type": "stream",
          "text": [
            "\n",
            "\n",
            "(12/15) Detecting faces from images in Personne12 directory\n"
          ],
          "name": "stdout"
        },
        {
          "output_type": "stream",
          "text": [
            "100% (186 of 186) |######################| Elapsed Time: 0:00:06 Time:  0:00:06\n",
            "  1% (3 of 186) |                        | Elapsed Time: 0:00:00 ETA:  00:00:00"
          ],
          "name": "stderr"
        },
        {
          "output_type": "stream",
          "text": [
            "\n",
            "\n",
            "(13/15) Detecting faces from images in Personne13 directory\n"
          ],
          "name": "stdout"
        },
        {
          "output_type": "stream",
          "text": [
            "100% (186 of 186) |######################| Elapsed Time: 0:00:07 Time:  0:00:07\n",
            "  1% (3 of 186) |                        | Elapsed Time: 0:00:00 ETA:  00:00:00"
          ],
          "name": "stderr"
        },
        {
          "output_type": "stream",
          "text": [
            "\n",
            "\n",
            "(14/15) Detecting faces from images in Personne14 directory\n"
          ],
          "name": "stdout"
        },
        {
          "output_type": "stream",
          "text": [
            "100% (186 of 186) |######################| Elapsed Time: 0:00:07 Time:  0:00:07\n",
            "  2% (5 of 186) |                        | Elapsed Time: 0:00:00 ETA:   0:00:05"
          ],
          "name": "stderr"
        },
        {
          "output_type": "stream",
          "text": [
            "\n",
            "\n",
            "(15/15) Detecting faces from images in Personne15 directory\n"
          ],
          "name": "stdout"
        },
        {
          "output_type": "stream",
          "text": [
            "100% (186 of 186) |######################| Elapsed Time: 0:00:06 Time:  0:00:06\n"
          ],
          "name": "stderr"
        },
        {
          "output_type": "stream",
          "text": [
            "\n",
            "Detection result by horizontal angle:\n",
            "-90:71.42857142857143\n",
            "-75:75.71428571428571\n",
            "-60:86.19047619047619\n",
            "-45:90.0\n",
            "-30:91.82692307692308\n",
            "-15:93.80952380952381\n",
            "0:78.51851851851852\n",
            "15:94.28571428571429\n",
            "30:90.9090909090909\n",
            "45:87.61904761904762\n",
            "60:82.38095238095238\n",
            "75:77.61904761904762\n",
            "90:71.42857142857143\n",
            "\n",
            "Detection result by vertical angle:\n",
            "-90:33.333333333333336\n",
            "-60:72.3076923076923\n",
            "-30:92.82051282051282\n",
            "-15:96.41025641025641\n",
            "0:96.92307692307692\n",
            "15:94.61538461538461\n",
            "30:84.1025641025641\n",
            "60:58.656330749354005\n",
            "90:16.666666666666668\n",
            "\n",
            "Detection result per person\n",
            "1:84.94623655913979\n",
            "2:73.65591397849462\n",
            "3:69.89247311827957\n",
            "4:85.48387096774194\n",
            "5:89.24731182795699\n",
            "6:81.72043010752688\n",
            "7:95.16129032258064\n",
            "8:81.08108108108108\n",
            "9:92.47311827956989\n",
            "10:71.50537634408602\n",
            "11:87.09677419354838\n",
            "12:83.87096774193549\n",
            "13:92.97297297297297\n",
            "14:89.78494623655914\n",
            "15:78.91891891891892\n",
            "\n",
            "Detection rate over whole dataset:83.85%\n",
            "\n"
          ],
          "name": "stdout"
        },
        {
          "output_type": "display_data",
          "data": {
            "image/png": "[encoded data removed]",
            "text/plain": [
              "<Figure size 576x396 with 1 Axes>"
            ]
          },
          "metadata": {
            "tags": []
          }
        },
        {
          "output_type": "display_data",
          "data": {
            "image/png": "[encoded data removed]",
            "text/plain": [
              "<Figure size 576x396 with 1 Axes>"
            ]
          },
          "metadata": {
            "tags": []
          }
        },
        {
          "output_type": "display_data",
          "data": {
            "image/png": "[encoded data removed]",
            "text/plain": [
              "<Figure size 576x396 with 1 Axes>"
            ]
          },
          "metadata": {
            "tags": []
          }
        }
      ]
    }
  ]
}