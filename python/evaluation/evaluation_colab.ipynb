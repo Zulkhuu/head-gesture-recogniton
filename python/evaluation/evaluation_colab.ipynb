{
  "nbformat": 4,
  "nbformat_minor": 0,
  "metadata": {
    "colab": {
      "name": "Copy of Untitled0.ipynb",
      "version": "0.3.2",
      "provenance": [],
      "collapsed_sections": [],
      "toc_visible": true
    },
    "kernelspec": {
      "name": "python3",
      "display_name": "Python 3"
    },
    "accelerator": "GPU"
  },
  "cells": [
    {
      "metadata": {
        "colab_type": "text",
        "id": "kyxneJCspBiP"
      },
      "cell_type": "markdown",
      "source": [
        "[View in Colaboratory](https://colab.research.google.com/github/Zulkhuu/head-gesture-recogniton/blob/master/python/evaluation/evaluation_colab.ipynb)"
      ]
    },
    {
      "metadata": {
        "id": "L_w2nzYNCj8J",
        "colab_type": "text"
      },
      "cell_type": "markdown",
      "source": [
        "# Show system specification"
      ]
    },
    {
      "metadata": {
        "id": "ciUHzy-oCerk",
        "colab_type": "code",
        "outputId": "36bf9560-7d03-4f5d-a7e3-6c50b2a8630c",
        "colab": {
          "base_uri": "https://localhost:8080/",
          "height": 694
        }
      },
      "cell_type": "code",
      "source": [
        "from tensorflow.python.client import device_lib\n",
        "\n",
        "print(\"Show System RAM Memory:\\n\\n\")\n",
        "!cat /proc/meminfo | egrep \"MemTotal*\"\n",
        "\n",
        "print(\"\\n\\nShow Devices:\\n\\n\"+str(device_lib.list_local_devices()))"
      ],
      "execution_count": 0,
      "outputs": [
        {
          "output_type": "stream",
          "text": [
            "Show System RAM Memory:\n",
            "\n",
            "\n",
            "MemTotal:       13335276 kB\n",
            "\n",
            "\n",
            "Show Devices:\n",
            "\n",
            "[name: \"/device:CPU:0\"\n",
            "device_type: \"CPU\"\n",
            "memory_limit: 268435456\n",
            "locality {\n",
            "}\n",
            "incarnation: 8519251622356042964\n",
            ", name: \"/device:XLA_CPU:0\"\n",
            "device_type: \"XLA_CPU\"\n",
            "memory_limit: 17179869184\n",
            "locality {\n",
            "}\n",
            "incarnation: 8332476111764249157\n",
            "physical_device_desc: \"device: XLA_CPU device\"\n",
            ", name: \"/device:XLA_GPU:0\"\n",
            "device_type: \"XLA_GPU\"\n",
            "memory_limit: 17179869184\n",
            "locality {\n",
            "}\n",
            "incarnation: 2020105927275432121\n",
            "physical_device_desc: \"device: XLA_GPU device\"\n",
            ", name: \"/device:GPU:0\"\n",
            "device_type: \"GPU\"\n",
            "memory_limit: 11276946637\n",
            "locality {\n",
            "  bus_id: 1\n",
            "  links {\n",
            "  }\n",
            "}\n",
            "incarnation: 7311752765523789153\n",
            "physical_device_desc: \"device: 0, name: Tesla K80, pci bus id: 0000:00:04.0, compute capability: 3.7\"\n",
            "]\n"
          ],
          "name": "stdout"
        }
      ]
    },
    {
      "metadata": {
        "id": "sDiRB8UKCwW5",
        "colab_type": "text"
      },
      "cell_type": "markdown",
      "source": [
        "# Download Dependencies to Google Colab Environment\n",
        "\n",
        "This may take several minutes but needs to only be run once per session. Every Google Colab session has temporary storage for assets such as images and other scripts. When the session is closed these objects will be removed but the notebook will remain intact.\n",
        "\n",
        "*Run the cell below to download necessary dependencies. After this is complete you can navigate to the FILES tab on the left and select refresh - you should see the files listed.*"
      ]
    },
    {
      "metadata": {
        "id": "Q0sAjlRV-y5D",
        "colab_type": "code",
        "outputId": "9bfc2f74-6349-4558-857b-ddb25ced65f9",
        "colab": {
          "base_uri": "https://localhost:8080/",
          "height": 330
        }
      },
      "cell_type": "code",
      "source": [
        "!pip install PyDrive\n",
        "import os\n",
        "from pydrive.auth import GoogleAuth\n",
        "from pydrive.drive import GoogleDrive\n",
        "from google.colab import auth\n",
        "from oauth2client.client import GoogleCredentials\n",
        "\n",
        "auth.authenticate_user()\n",
        "gauth = GoogleAuth()\n",
        "gauth.credentials = GoogleCredentials.get_application_default()\n",
        "drive = GoogleDrive(gauth)"
      ],
      "execution_count": 0,
      "outputs": [
        {
          "output_type": "stream",
          "text": [
            "Collecting PyDrive\n",
            "\u001b[?25l  Downloading https://files.pythonhosted.org/packages/52/e0/0e64788e5dd58ce2d6934549676243dc69d982f198524be9b99e9c2a4fd5/PyDrive-1.3.1.tar.gz (987kB)\n",
            "\u001b[K    100% |████████████████████████████████| 993kB 21.6MB/s \n",
            "\u001b[?25hRequirement already satisfied: google-api-python-client>=1.2 in /usr/local/lib/python3.6/dist-packages (from PyDrive) (1.6.7)\n",
            "Requirement already satisfied: oauth2client>=4.0.0 in /usr/local/lib/python3.6/dist-packages (from PyDrive) (4.1.3)\n",
            "Requirement already satisfied: PyYAML>=3.0 in /usr/local/lib/python3.6/dist-packages (from PyDrive) (3.13)\n",
            "Requirement already satisfied: uritemplate<4dev,>=3.0.0 in /usr/local/lib/python3.6/dist-packages (from google-api-python-client>=1.2->PyDrive) (3.0.0)\n",
            "Requirement already satisfied: six<2dev,>=1.6.1 in /usr/local/lib/python3.6/dist-packages (from google-api-python-client>=1.2->PyDrive) (1.11.0)\n",
            "Requirement already satisfied: httplib2<1dev,>=0.9.2 in /usr/local/lib/python3.6/dist-packages (from google-api-python-client>=1.2->PyDrive) (0.11.3)\n",
            "Requirement already satisfied: pyasn1-modules>=0.0.5 in /usr/local/lib/python3.6/dist-packages (from oauth2client>=4.0.0->PyDrive) (0.2.4)\n",
            "Requirement already satisfied: pyasn1>=0.1.7 in /usr/local/lib/python3.6/dist-packages (from oauth2client>=4.0.0->PyDrive) (0.4.5)\n",
            "Requirement already satisfied: rsa>=3.1.4 in /usr/local/lib/python3.6/dist-packages (from oauth2client>=4.0.0->PyDrive) (4.0)\n",
            "Building wheels for collected packages: PyDrive\n",
            "  Building wheel for PyDrive (setup.py) ... \u001b[?25ldone\n",
            "\u001b[?25h  Stored in directory: /root/.cache/pip/wheels/fa/d2/9a/d3b6b506c2da98289e5d417215ce34b696db856643bad779f4\n",
            "Successfully built PyDrive\n",
            "Installing collected packages: PyDrive\n",
            "Successfully installed PyDrive-1.3.1\n"
          ],
          "name": "stdout"
        }
      ]
    },
    {
      "metadata": {
        "id": "MsY_k4SeEAf1",
        "colab_type": "text"
      },
      "cell_type": "markdown",
      "source": [
        "# Download dataset\n",
        "Download Face Detection Data Set and Benchmark (FDDB) from Google Drive and unzip.\n",
        "Original dataset link: http://vis-www.cs.umass.edu/fddb/index.html"
      ]
    },
    {
      "metadata": {
        "id": "n7oyUe5bDIXa",
        "colab_type": "code",
        "colab": {}
      },
      "cell_type": "code",
      "source": [
        "# FDDB dataset annotation files id=1HBIPoRFYK763kgOeHG011NAYWdox1Q2Z\n",
        "download = drive.CreateFile({'id': '1HBIPoRFYK763kgOeHG011NAYWdox1Q2Z'})\n",
        "download.GetContentFile('FDDB-folds.tgz')\n",
        "!mkdir -p dataset/FDDB/FDDB-folds\n",
        "!tar xzf FDDB-folds.tgz -C dataset/FDDB/\n",
        "\n",
        "# FDDB dataset image files id=1uEv2I4svspLRwvU-nMwQr7ZL1m5RhIYh\n",
        "download = drive.CreateFile({'id': '1uEv2I4svspLRwvU-nMwQr7ZL1m5RhIYh'})\n",
        "download.GetContentFile('originalPics.tar.gz')\n",
        "!mkdir -p dataset/FDDB/originalPics\n",
        "!tar xzf originalPics.tar.gz -C dataset/FDDB/originalPics/\n",
        "\n",
        "# Pointing04 dataset image files id=1vClo8TVoAAdlRyn06VHuMB-SlwklAIVP\n",
        "download = drive.CreateFile({'id': '1vClo8TVoAAdlRyn06VHuMB-SlwklAIVP'})\n",
        "download.GetContentFile('P04DB.tar.gz')\n",
        "!mkdir -p dataset/P04DB/originalPics\n",
        "!mkdir -p dataset/P04DB/P04DB-folds\n",
        "!tar xzf P04DB.tar.gz -C dataset/P04DB/originalPics/"
      ],
      "execution_count": 0,
      "outputs": []
    },
    {
      "metadata": {
        "id": "mkpfW9OpGxHB",
        "colab_type": "text"
      },
      "cell_type": "markdown",
      "source": [
        "#Run Face Detection on dataset"
      ]
    },
    {
      "metadata": {
        "id": "L6sNojqUn-e2",
        "colab_type": "code",
        "outputId": "bd0a1bd3-8e07-4be8-d4ef-9be1a5093e58",
        "colab": {
          "base_uri": "https://localhost:8080/",
          "height": 225
        }
      },
      "cell_type": "code",
      "source": [
        "!pip install mtcnn\n",
        "!pip install progressbar2\n",
        "import cv2\n",
        "import numpy as np\n",
        "import pandas as pd\n",
        "import itertools\n",
        "import progressbar\n",
        "import time\n",
        "import matplotlib.pyplot as plt"
      ],
      "execution_count": 0,
      "outputs": [
        {
          "output_type": "stream",
          "text": [
            "Collecting mtcnn\n",
            "\u001b[?25l  Downloading https://files.pythonhosted.org/packages/0b/f5/d62ac2bdf1c683b7650268305db3126323a7b6a2f6390273038285fa9e3f/mtcnn-0.0.8.tar.gz (2.3MB)\n",
            "\u001b[K    100% |████████████████████████████████| 2.3MB 10.8MB/s \n",
            "\u001b[?25hBuilding wheels for collected packages: mtcnn\n",
            "  Building wheel for mtcnn (setup.py) ... \u001b[?25ldone\n",
            "\u001b[?25h  Stored in directory: /root/.cache/pip/wheels/be/dd/12/bccde6b95f576af24256f6f1a2e4087eb8488405a6c107e13c\n",
            "Successfully built mtcnn\n",
            "Installing collected packages: mtcnn\n",
            "Successfully installed mtcnn-0.0.8\n",
            "Requirement already satisfied: progressbar2 in /usr/local/lib/python3.6/dist-packages (3.38.0)\n",
            "Requirement already satisfied: six in /usr/local/lib/python3.6/dist-packages (from progressbar2) (1.11.0)\n",
            "Requirement already satisfied: python-utils>=2.3.0 in /usr/local/lib/python3.6/dist-packages (from progressbar2) (2.3.0)\n"
          ],
          "name": "stdout"
        }
      ]
    },
    {
      "metadata": {
        "id": "wehxRNq9sZ9a",
        "colab_type": "code",
        "outputId": "b58037c5-95ab-42a5-94ed-677dbba5ab8c",
        "colab": {
          "base_uri": "https://localhost:8080/",
          "height": 173
        }
      },
      "cell_type": "code",
      "source": [
        "!git init head-gesture-recogniton\n",
        "!cd head-gesture-recogniton ; git remote add origin https://github.com/Zulkhuu/head-gesture-recogniton.git \n",
        "!cd head-gesture-recogniton ; git config core.sparsecheckout true\n",
        "!cd head-gesture-recogniton ; echo \"python/head-pose-estimation/*\" >> .git/info/sparse-checkout\n",
        "!cd head-gesture-recogniton ; git pull --depth=1 origin master\n",
        "!cp head-gesture-recogniton/python/head-pose-estimation/mark_detector.py .\n",
        "!cp -r head-gesture-recogniton/python/head-pose-estimation/assets .\n",
        "!rm -r head-gesture-recogniton"
      ],
      "execution_count": 0,
      "outputs": [
        {
          "output_type": "stream",
          "text": [
            "Initialized empty Git repository in /content/head-gesture-recogniton/.git/\n",
            "remote: Enumerating objects: 56, done.\u001b[K\n",
            "remote: Counting objects: 100% (56/56), done.\u001b[K\n",
            "remote: Compressing objects: 100% (55/55), done.\u001b[K\n",
            "remote: Total 56 (delta 6), reused 38 (delta 1), pack-reused 0\u001b[K\n",
            "Unpacking objects: 100% (56/56), done.\n",
            "From https://github.com/Zulkhuu/head-gesture-recogniton\n",
            " * branch            master     -> FETCH_HEAD\n",
            " * [new branch]      master     -> origin/master\n"
          ],
          "name": "stdout"
        }
      ]
    },
    {
      "metadata": {
        "id": "KWBpbgMXsv8Z",
        "colab_type": "code",
        "colab": {}
      },
      "cell_type": "code",
      "source": [
        "from mark_detector import MarkDetector\n",
        "from mtcnn.mtcnn import MTCNN\n",
        "\n",
        "detector = MTCNN()\n",
        "mark_detector = MarkDetector()\n",
        "\n",
        "#detector_name = 'mtcnn'\n",
        "detector_name = 'res_ssd'\n",
        "\n",
        "def face_detect(image,detector_name='mtcnn'):\n",
        "    \"\"\"\n",
        "    input: opencv image\n",
        "    return: <left_x top_y width height detection_score>\n",
        "    \"\"\"\n",
        "    results = []\n",
        "    if detector_name == 'mtcnn':\n",
        "      dets = detector.detect_faces(image)\n",
        "      for det in dets:\n",
        "        results.append('{:.6f} {:.6f} {:.6f} {:.6f} {:.6f}'.format(det['box'][0],det['box'][1],det['box'][2],det['box'][3],det['confidence']))\n",
        "    else:\n",
        "      facebox = mark_detector.extract_cnn_facebox(image)\n",
        "      if facebox is not None:\n",
        "        results.append('{:d} {:d} {:d} {:d} {:d}'.format(facebox[0],facebox[1],facebox[2],facebox[3],10))\n",
        "    return results"
      ],
      "execution_count": 0,
      "outputs": []
    },
    {
      "metadata": {
        "id": "O4_470ndG0XD",
        "colab_type": "code",
        "colab": {}
      },
      "cell_type": "code",
      "source": [
        "def run_on_P04B(detector_name):\n",
        "    database_path = 'dataset/P04DB'\n",
        "    db_image_path = '{:s}/originalPics/P04DB'.format(database_path)\n",
        "    result_path = '{:s}/P04DB-folds'.format(database_path)\n",
        "    n_fold = 15\n",
        "    for i in range(n_fold):\n",
        "        output_filename = '{:s}/Personne{:02d}-{:s}-result.txt'.format(result_path, i+1, detector_name)\n",
        "        output_file = open(output_filename,mode='w')\n",
        "        print('\\n\\n({:d}/{:d}) Detecting faces from images in Personne{:02d} directory'.format(i+1, n_fold, i+1))\n",
        "        subfolder_name = '{:s}/Personne{:02d}'.format(db_image_path, i+1)\n",
        "        \n",
        "        with progressbar.ProgressBar(maxval=len(os.listdir(subfolder_name))) as bar:\n",
        "            n = 0\n",
        "            for image_filename in os.listdir(subfolder_name):\n",
        "                full_filename = '{:s}/{:s}.jpg'.format(subfolder_name, image_filename.split('.')[0]) \n",
        "                #print(image_filename.split('.')[0])\n",
        "                output_file.write('{:s}\\n'.format(full_filename))\n",
        "                image_cv2 = cv2.imread(full_filename)\n",
        "                results = face_detect(image_cv2,detector_name)\n",
        "                output_file.write('{:d}\\n'.format(len(results)))\n",
        "                for result in results:\n",
        "                    output_file.write('{:s}\\n'.format(result))\n",
        "                n += 1\n",
        "                bar.update(n)\n",
        "        '''\n",
        "            with open(list_filename) as f:\n",
        "                for image_filename in f:\n",
        "                    full_filename = '{:s}/{:s}.jpg'.format(db_image_path,image_filename.rstrip())\n",
        "                    output_file.write(image_filename)\n",
        "                    image_cv2 = cv2.imread(full_filename)\n",
        "                    results = face_detect(image_cv2)\n",
        "                    output_file.write('{:d}\\n'.format(len(results)))\n",
        "                    for result in results:\n",
        "                        output_file.write('{:s}\\n'.format(result))\n",
        "        '''\n",
        "        \n",
        "def parse_p04db_filename(filename):\n",
        "    #Decode dataset filename\n",
        "    filename = filename.split('/')[-1].split('.')[0]   \n",
        "    pid = int(filename[8:10])\n",
        "    serie = int(filename[10])\n",
        "    if(filename[14] == '0'):\n",
        "        vert = int(filename[13:15])\n",
        "        if(filename[16] == '0'):\n",
        "            horz = int(filename[15:17])\n",
        "        else:\n",
        "            horz = int(filename[15:18])\n",
        "    else:\n",
        "        vert = int(filename[13:16])\n",
        "        if(filename[17] == '0'):\n",
        "            horz = int(filename[16:18])\n",
        "        else:\n",
        "            horz = int(filename[16:19])\n",
        "    #print('Filename:{:s} Person ID:{:d} Serie{:d} Vert:{:d} Vert:{:d}'.format(filename, pid, serie, vert,horz))\n",
        "    return pid, serie, vert,horz\n"
      ],
      "execution_count": 0,
      "outputs": []
    },
    {
      "metadata": {
        "id": "CAIfpejloVyj",
        "colab_type": "code",
        "outputId": "cb26d781-cee1-4deb-fe70-bf2b0737c154",
        "colab": {
          "base_uri": "https://localhost:8080/",
          "height": 479
        }
      },
      "cell_type": "code",
      "source": [
        "run_on_P04B(detector_name)"
      ],
      "execution_count": 0,
      "outputs": [
        {
          "output_type": "stream",
          "text": [
            "100% (186 of 186) |######################| Elapsed Time: 0:00:00 ETA:  00:00:00\n"
          ],
          "name": "stderr"
        },
        {
          "output_type": "stream",
          "text": [
            "\n",
            "\n",
            "(1/15) Detecting faces from images in Personne01 directory\n"
          ],
          "name": "stdout"
        },
        {
          "output_type": "error",
          "ename": "AttributeError",
          "evalue": "ignored",
          "traceback": [
            "\u001b[0;31m---------------------------------------------------------------------------\u001b[0m",
            "\u001b[0;31mAttributeError\u001b[0m                            Traceback (most recent call last)",
            "\u001b[0;32m<ipython-input-18-fa6dcc5330b4>\u001b[0m in \u001b[0;36m<module>\u001b[0;34m()\u001b[0m\n\u001b[0;32m----> 1\u001b[0;31m \u001b[0mrun_on_P04B\u001b[0m\u001b[0;34m(\u001b[0m\u001b[0mdetector_name\u001b[0m\u001b[0;34m)\u001b[0m\u001b[0;34m\u001b[0m\u001b[0;34m\u001b[0m\u001b[0m\n\u001b[0m",
            "\u001b[0;32m<ipython-input-17-0fa7a5b1d49d>\u001b[0m in \u001b[0;36mrun_on_P04B\u001b[0;34m(detector_name)\u001b[0m\n\u001b[1;32m     17\u001b[0m                 \u001b[0moutput_file\u001b[0m\u001b[0;34m.\u001b[0m\u001b[0mwrite\u001b[0m\u001b[0;34m(\u001b[0m\u001b[0;34m'{:s}\\n'\u001b[0m\u001b[0;34m.\u001b[0m\u001b[0mformat\u001b[0m\u001b[0;34m(\u001b[0m\u001b[0mfull_filename\u001b[0m\u001b[0;34m)\u001b[0m\u001b[0;34m)\u001b[0m\u001b[0;34m\u001b[0m\u001b[0;34m\u001b[0m\u001b[0m\n\u001b[1;32m     18\u001b[0m                 \u001b[0mimage_cv2\u001b[0m \u001b[0;34m=\u001b[0m \u001b[0mcv2\u001b[0m\u001b[0;34m.\u001b[0m\u001b[0mimread\u001b[0m\u001b[0;34m(\u001b[0m\u001b[0mfull_filename\u001b[0m\u001b[0;34m)\u001b[0m\u001b[0;34m\u001b[0m\u001b[0;34m\u001b[0m\u001b[0m\n\u001b[0;32m---> 19\u001b[0;31m                 \u001b[0mresults\u001b[0m \u001b[0;34m=\u001b[0m \u001b[0mface_detect\u001b[0m\u001b[0;34m(\u001b[0m\u001b[0mimage_cv2\u001b[0m\u001b[0;34m,\u001b[0m\u001b[0mdetector_name\u001b[0m\u001b[0;34m)\u001b[0m\u001b[0;34m\u001b[0m\u001b[0;34m\u001b[0m\u001b[0m\n\u001b[0m\u001b[1;32m     20\u001b[0m                 \u001b[0moutput_file\u001b[0m\u001b[0;34m.\u001b[0m\u001b[0mwrite\u001b[0m\u001b[0;34m(\u001b[0m\u001b[0;34m'{:d}\\n'\u001b[0m\u001b[0;34m.\u001b[0m\u001b[0mformat\u001b[0m\u001b[0;34m(\u001b[0m\u001b[0mlen\u001b[0m\u001b[0;34m(\u001b[0m\u001b[0mresults\u001b[0m\u001b[0;34m)\u001b[0m\u001b[0;34m)\u001b[0m\u001b[0;34m)\u001b[0m\u001b[0;34m\u001b[0m\u001b[0;34m\u001b[0m\u001b[0m\n\u001b[1;32m     21\u001b[0m                 \u001b[0;32mfor\u001b[0m \u001b[0mresult\u001b[0m \u001b[0;32min\u001b[0m \u001b[0mresults\u001b[0m\u001b[0;34m:\u001b[0m\u001b[0;34m\u001b[0m\u001b[0;34m\u001b[0m\u001b[0m\n",
            "\u001b[0;32m<ipython-input-16-f20bff40b172>\u001b[0m in \u001b[0;36mface_detect\u001b[0;34m(image, detector_name)\u001b[0m\n\u001b[1;32m     19\u001b[0m         \u001b[0mresults\u001b[0m\u001b[0;34m.\u001b[0m\u001b[0mappend\u001b[0m\u001b[0;34m(\u001b[0m\u001b[0;34m'{:.6f} {:.6f} {:.6f} {:.6f} {:.6f}'\u001b[0m\u001b[0;34m.\u001b[0m\u001b[0mformat\u001b[0m\u001b[0;34m(\u001b[0m\u001b[0mdet\u001b[0m\u001b[0;34m[\u001b[0m\u001b[0;34m'box'\u001b[0m\u001b[0;34m]\u001b[0m\u001b[0;34m[\u001b[0m\u001b[0;36m0\u001b[0m\u001b[0;34m]\u001b[0m\u001b[0;34m,\u001b[0m\u001b[0mdet\u001b[0m\u001b[0;34m[\u001b[0m\u001b[0;34m'box'\u001b[0m\u001b[0;34m]\u001b[0m\u001b[0;34m[\u001b[0m\u001b[0;36m1\u001b[0m\u001b[0;34m]\u001b[0m\u001b[0;34m,\u001b[0m\u001b[0mdet\u001b[0m\u001b[0;34m[\u001b[0m\u001b[0;34m'box'\u001b[0m\u001b[0;34m]\u001b[0m\u001b[0;34m[\u001b[0m\u001b[0;36m2\u001b[0m\u001b[0;34m]\u001b[0m\u001b[0;34m,\u001b[0m\u001b[0mdet\u001b[0m\u001b[0;34m[\u001b[0m\u001b[0;34m'box'\u001b[0m\u001b[0;34m]\u001b[0m\u001b[0;34m[\u001b[0m\u001b[0;36m3\u001b[0m\u001b[0;34m]\u001b[0m\u001b[0;34m,\u001b[0m\u001b[0mdet\u001b[0m\u001b[0;34m[\u001b[0m\u001b[0;34m'confidence'\u001b[0m\u001b[0;34m]\u001b[0m\u001b[0;34m)\u001b[0m\u001b[0;34m)\u001b[0m\u001b[0;34m\u001b[0m\u001b[0;34m\u001b[0m\u001b[0m\n\u001b[1;32m     20\u001b[0m     \u001b[0;32melse\u001b[0m\u001b[0;34m:\u001b[0m\u001b[0;34m\u001b[0m\u001b[0;34m\u001b[0m\u001b[0m\n\u001b[0;32m---> 21\u001b[0;31m       \u001b[0mfacebox\u001b[0m \u001b[0;34m=\u001b[0m \u001b[0mdetector_2\u001b[0m\u001b[0;34m.\u001b[0m\u001b[0mextract_cnn_facebox\u001b[0m\u001b[0;34m(\u001b[0m\u001b[0mimage\u001b[0m\u001b[0;34m)\u001b[0m\u001b[0;34m\u001b[0m\u001b[0;34m\u001b[0m\u001b[0m\n\u001b[0m\u001b[1;32m     22\u001b[0m       \u001b[0;32mif\u001b[0m \u001b[0mfacebox\u001b[0m \u001b[0;32mis\u001b[0m \u001b[0;32mnot\u001b[0m \u001b[0;32mNone\u001b[0m\u001b[0;34m:\u001b[0m\u001b[0;34m\u001b[0m\u001b[0;34m\u001b[0m\u001b[0m\n\u001b[1;32m     23\u001b[0m         \u001b[0mresults\u001b[0m\u001b[0;34m.\u001b[0m\u001b[0mappend\u001b[0m\u001b[0;34m(\u001b[0m\u001b[0;34m'{:d} {:d} {:d} {:d} {:d}'\u001b[0m\u001b[0;34m.\u001b[0m\u001b[0mformat\u001b[0m\u001b[0;34m(\u001b[0m\u001b[0mfacebox\u001b[0m\u001b[0;34m[\u001b[0m\u001b[0;36m0\u001b[0m\u001b[0;34m]\u001b[0m\u001b[0;34m,\u001b[0m\u001b[0mfacebox\u001b[0m\u001b[0;34m[\u001b[0m\u001b[0;36m1\u001b[0m\u001b[0;34m]\u001b[0m\u001b[0;34m,\u001b[0m\u001b[0mfacebox\u001b[0m\u001b[0;34m[\u001b[0m\u001b[0;36m2\u001b[0m\u001b[0;34m]\u001b[0m\u001b[0;34m,\u001b[0m\u001b[0mfacebox\u001b[0m\u001b[0;34m[\u001b[0m\u001b[0;36m3\u001b[0m\u001b[0;34m]\u001b[0m\u001b[0;34m,\u001b[0m\u001b[0;36m10\u001b[0m\u001b[0;34m)\u001b[0m\u001b[0;34m)\u001b[0m\u001b[0;34m\u001b[0m\u001b[0;34m\u001b[0m\u001b[0m\n",
            "\u001b[0;31mAttributeError\u001b[0m: 'FaceDetector' object has no attribute 'extract_cnn_facebox'"
          ]
        }
      ]
    },
    {
      "metadata": {
        "id": "ULoAwI1Tn3xG",
        "colab_type": "code",
        "outputId": "35722973-f3c2-4f45-8169-04ec753497ae",
        "colab": {
          "base_uri": "https://localhost:8080/",
          "height": 504
        }
      },
      "cell_type": "code",
      "source": [
        "def show_P04DB_result(detector_name):\n",
        "    vert_angles = [-90, -60, -30, -15, 0, +15, +30, +60, +90]\n",
        "    horz_angles = [-90, -75, -60, -45, -30, -15, 0, +15, +30, +45, +60, +75, +90]\n",
        "    database_path = 'dataset/P04DB'\n",
        "    result_path = '{:s}/P04DB-folds'.format(database_path)\n",
        "    results = []\n",
        "    labels = ['Person ID', 'Series', 'Vertical angle', 'Horizontal angle', 'Number of faces', 'Detection result']\n",
        "    n_fold = 15\n",
        "    for i in range(n_fold):\n",
        "        result_filename = '{:s}/Personne{:02d}-{:s}-result.txt'.format(result_path, i+1, detector_name)\n",
        "        file = open(result_filename, \"r\")\n",
        "        #print (\"Name of the file: \", file.name)\n",
        "        n = 0\n",
        "        while(n<len(open(result_filename).readlines())):\n",
        "        #with open(result_filename) as file:\n",
        "            filename = next(file)\n",
        "            pid, serie, vert,horz = parse_p04db_filename(filename)\n",
        "            n += 1\n",
        "            n_faces = int(next(file))\n",
        "            n += 1\n",
        "            det_result = []\n",
        "            for i in range(n_faces):\n",
        "                det_result.append(next(file))\n",
        "                n += 1\n",
        "            #print(n_faces)\n",
        "            results.append([pid, serie, vert, horz, n_faces, det_result])\n",
        "    \n",
        "    df = pd.DataFrame.from_records(results, columns=labels)\n",
        "    #detected = df.groupby(\"Number of faces\").filter(lambda x: x.mean() > 0)\n",
        "    \n",
        "    result_by_horz_angle = {}\n",
        "    for horz_angle in horz_angles:\n",
        "        detected = len(df[(df['Horizontal angle'] == int(horz_angle)) & (df['Number of faces'] == 1)])\n",
        "        not_detected = len(df[(df['Horizontal angle'] == int(horz_angle)) & (df['Number of faces'] == 0)])\n",
        "        percentage = 100*detected/(detected + not_detected)\n",
        "        result_by_horz_angle[horz_angle] = percentage\n",
        "    #print('\\nDetection result by horizontal angle:')\n",
        "    #for key in result_by_horz_angle:\n",
        "    #    print('{}:{}'.format(key, result_by_horz_angle[key]))\n",
        "  \n",
        "    result_by_vert_angle = {}\n",
        "    for vert_angle in vert_angles:\n",
        "        detected = len(df[(df['Vertical angle'] == int(vert_angle)) & (df['Number of faces'] == 1)])\n",
        "        not_detected = len(df[(df['Vertical angle'] == int(vert_angle)) & (df['Number of faces'] == 0)])\n",
        "        percentage = 100*detected/(detected + not_detected)\n",
        "        result_by_vert_angle[vert_angle] = percentage\n",
        "    #print('\\nDetection result by vertical angle:')\n",
        "    #for key in result_by_vert_angle:\n",
        "    #    print('{}:{}'.format(key, result_by_vert_angle[key]))\n",
        "\n",
        "    result_by_personne = {}\n",
        "    for i in range(n_fold):\n",
        "        person_id = i+1 #Starts from 1\n",
        "        detected = len(df[(df['Person ID'] == person_id) & (df['Number of faces'] == 1)])\n",
        "        not_detected = len(df[(df['Person ID'] == person_id) & (df['Number of faces'] == 0)])\n",
        "        percentage = 100*detected/(detected + not_detected)\n",
        "        result_by_personne[person_id] = percentage\n",
        "    #print('\\nDetection result per person')\n",
        "    #for key in result_by_personne:\n",
        "    #    print('{}:{}'.format(key, result_by_personne[key]))\n",
        "        \n",
        "    detected = len(df[(df['Number of faces'] == 1)])\n",
        "    not_detected = len(df[(df['Number of faces'] == 0)])\n",
        "    overall_detection_rate = 100*detected/(detected + not_detected)\n",
        "    print('\\nDetection rate over whole dataset:{:.02f}%\\n'.format(overall_detection_rate))\n",
        "    \n",
        "    fig, axs = plt.subplots(1,2,figsize=(15,3))\n",
        "    axs[0].bar(result_by_horz_angle.keys(), result_by_horz_angle.values(), 12, color='g')\n",
        "    axs[0].set_xticks(horz_angles)\n",
        "    axs[0].set_xlabel('Horizontal angle')\n",
        "    axs[0].set_ylabel('Detection rate')\n",
        "    \n",
        "    axs[1].bar(result_by_vert_angle.keys(), result_by_vert_angle.values(), 12, color='g')\n",
        "    axs[1].set_xticks(vert_angles)\n",
        "    axs[1].set_xlabel('Vertical angle')\n",
        "    axs[1].set_ylabel('Detection rate')\n",
        "    \n",
        "    plt.figure(3,figsize=(15,3))\n",
        "    plt.bar(result_by_personne.keys(), result_by_personne.values(), color='gray')\n",
        "    plt.xticks([x+1 for x in range(n_fold)])\n",
        "    plt.xlabel('Person ID')\n",
        "    plt.ylabel('Detection rate')\n",
        "    plt.show()\n",
        "    plt.tight_layout()\n",
        "    \n",
        "show_P04DB_result('res_ssd')"
      ],
      "execution_count": 0,
      "outputs": [
        {
          "output_type": "stream",
          "text": [
            "\n",
            "Detection rate over whole dataset:92.87%\n",
            "\n"
          ],
          "name": "stdout"
        },
        {
          "output_type": "display_data",
          "data": {
            "image/png": "[encoded data removed]",
            "text/plain": [
              "<Figure size 1080x216 with 2 Axes>"
            ]
          },
          "metadata": {
            "tags": []
          }
        },
        {
          "output_type": "display_data",
          "data": {
            "image/png": "[encoded data removed]",
            "text/plain": [
              "<Figure size 1080x216 with 1 Axes>"
            ]
          },
          "metadata": {
            "tags": []
          }
        },
        {
          "output_type": "display_data",
          "data": {
            "text/plain": [
              "<Figure size 576x396 with 0 Axes>"
            ]
          },
          "metadata": {
            "tags": []
          }
        }
      ]
    },
    {
      "metadata": {
        "id": "I655h6GXntwz",
        "colab_type": "code",
        "colab": {}
      },
      "cell_type": "code",
      "source": [
        "run_on_P04B('mtcnn')"
      ],
      "execution_count": 0,
      "outputs": []
    },
    {
      "metadata": {
        "id": "W21E0sAYmq6X",
        "colab_type": "code",
        "outputId": "65a9a1e8-ef3e-48d8-c2aa-55908e881649",
        "colab": {
          "base_uri": "https://localhost:8080/",
          "height": 507
        }
      },
      "cell_type": "code",
      "source": [
        "show_P04DB_result('mtcnn')"
      ],
      "execution_count": 0,
      "outputs": [
        {
          "output_type": "stream",
          "text": [
            "\n",
            "Detection rate over whole dataset:83.85%\n",
            "\n"
          ],
          "name": "stdout"
        },
        {
          "output_type": "display_data",
          "data": {
            "image/png": "[encoded data removed]",
            "text/plain": [
              "<Figure size 1080x216 with 2 Axes>"
            ]
          },
          "metadata": {
            "tags": []
          }
        },
        {
          "output_type": "display_data",
          "data": {
            "image/png": "[encoded data removed]",
            "text/plain": [
              "<Figure size 1080x216 with 1 Axes>"
            ]
          },
          "metadata": {
            "tags": []
          }
        },
        {
          "output_type": "display_data",
          "data": {
            "text/plain": [
              "<Figure size 576x396 with 0 Axes>"
            ]
          },
          "metadata": {
            "tags": []
          }
        }
      ]
    },
    {
      "metadata": {
        "id": "-TfiW4xO-RxT",
        "colab_type": "code",
        "colab": {}
      },
      "cell_type": "code",
      "source": [
        ""
      ],
      "execution_count": 0,
      "outputs": []
    }
  ]
}