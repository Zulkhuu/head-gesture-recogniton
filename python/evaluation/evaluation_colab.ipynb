{
  "nbformat": 4,
  "nbformat_minor": 0,
  "metadata": {
    "colab": {
      "name": "Untitled0.ipynb",
      "version": "0.3.2",
      "provenance": [],
      "collapsed_sections": [],
      "toc_visible": true
    },
    "kernelspec": {
      "name": "python3",
      "display_name": "Python 3"
    },
    "accelerator": "GPU"
  },
  "cells": [
    {
      "metadata": {
        "colab_type": "text",
        "id": "kyxneJCspBiP"
      },
      "cell_type": "markdown",
      "source": [
        "[View in Colaboratory](https://colab.research.google.com/github/Zulkhuu/head-gesture-recogniton/blob/master/python/evaluation/evaluation_colab.ipynb)"
      ]
    },
    {
      "metadata": {
        "id": "L_w2nzYNCj8J",
        "colab_type": "text"
      },
      "cell_type": "markdown",
      "source": [
        "# Show system specification"
      ]
    },
    {
      "metadata": {
        "id": "ciUHzy-oCerk",
        "colab_type": "code",
        "outputId": "d45a061d-656a-40da-f45b-72334e346f01",
        "colab": {
          "base_uri": "https://localhost:8080/",
          "height": 714
        }
      },
      "cell_type": "code",
      "source": [
        "from tensorflow.python.client import device_lib\n",
        "\n",
        "print(\"Show System RAM Memory:\\n\\n\")\n",
        "!cat /proc/meminfo | egrep \"MemTotal*\"\n",
        "\n",
        "print(\"\\n\\nShow Devices:\\n\\n\"+str(device_lib.list_local_devices()))"
      ],
      "execution_count": 10,
      "outputs": [
        {
          "output_type": "stream",
          "text": [
            "Show System RAM Memory:\n",
            "\n",
            "\n",
            "MemTotal:       13335268 kB\n",
            "\n",
            "\n",
            "Show Devices:\n",
            "\n",
            "[name: \"/device:CPU:0\"\n",
            "device_type: \"CPU\"\n",
            "memory_limit: 268435456\n",
            "locality {\n",
            "}\n",
            "incarnation: 8108905546929401649\n",
            ", name: \"/device:XLA_CPU:0\"\n",
            "device_type: \"XLA_CPU\"\n",
            "memory_limit: 17179869184\n",
            "locality {\n",
            "}\n",
            "incarnation: 14661938599781214009\n",
            "physical_device_desc: \"device: XLA_CPU device\"\n",
            ", name: \"/device:XLA_GPU:0\"\n",
            "device_type: \"XLA_GPU\"\n",
            "memory_limit: 17179869184\n",
            "locality {\n",
            "}\n",
            "incarnation: 12059715898344616955\n",
            "physical_device_desc: \"device: XLA_GPU device\"\n",
            ", name: \"/device:GPU:0\"\n",
            "device_type: \"GPU\"\n",
            "memory_limit: 11276946637\n",
            "locality {\n",
            "  bus_id: 1\n",
            "  links {\n",
            "  }\n",
            "}\n",
            "incarnation: 15601436142556093201\n",
            "physical_device_desc: \"device: 0, name: Tesla K80, pci bus id: 0000:00:04.0, compute capability: 3.7\"\n",
            "]\n"
          ],
          "name": "stdout"
        }
      ]
    },
    {
      "metadata": {
        "id": "sDiRB8UKCwW5",
        "colab_type": "text"
      },
      "cell_type": "markdown",
      "source": [
        "# Download Dependencies to Google Colab Environment\n",
        "\n",
        "This may take several minutes but needs to only be run once per session. Every Google Colab session has temporary storage for assets such as images and other scripts. When the session is closed these objects will be removed but the notebook will remain intact.\n",
        "\n",
        "*Run the cell below to download necessary dependencies. After this is complete you can navigate to the FILES tab on the left and select refresh - you should see the files listed.*"
      ]
    },
    {
      "metadata": {
        "id": "Q0sAjlRV-y5D",
        "colab_type": "code",
        "outputId": "7b982234-1da2-440b-db50-45aefe7f8802",
        "colab": {
          "base_uri": "https://localhost:8080/",
          "height": 196
        }
      },
      "cell_type": "code",
      "source": [
        "!pip install PyDrive\n",
        "import os\n",
        "from pydrive.auth import GoogleAuth\n",
        "from pydrive.drive import GoogleDrive\n",
        "from google.colab import auth\n",
        "from oauth2client.client import GoogleCredentials\n",
        "\n",
        "auth.authenticate_user()\n",
        "gauth = GoogleAuth()\n",
        "gauth.credentials = GoogleCredentials.get_application_default()\n",
        "drive = GoogleDrive(gauth)"
      ],
      "execution_count": 11,
      "outputs": [
        {
          "output_type": "stream",
          "text": [
            "Requirement already satisfied: PyDrive in /usr/local/lib/python3.6/dist-packages (1.3.1)\n",
            "Requirement already satisfied: google-api-python-client>=1.2 in /usr/local/lib/python3.6/dist-packages (from PyDrive) (1.6.7)\n",
            "Requirement already satisfied: oauth2client>=4.0.0 in /usr/local/lib/python3.6/dist-packages (from PyDrive) (4.1.3)\n",
            "Requirement already satisfied: PyYAML>=3.0 in /usr/local/lib/python3.6/dist-packages (from PyDrive) (3.13)\n",
            "Requirement already satisfied: uritemplate<4dev,>=3.0.0 in /usr/local/lib/python3.6/dist-packages (from google-api-python-client>=1.2->PyDrive) (3.0.0)\n",
            "Requirement already satisfied: six<2dev,>=1.6.1 in /usr/local/lib/python3.6/dist-packages (from google-api-python-client>=1.2->PyDrive) (1.11.0)\n",
            "Requirement already satisfied: httplib2<1dev,>=0.9.2 in /usr/local/lib/python3.6/dist-packages (from google-api-python-client>=1.2->PyDrive) (0.11.3)\n",
            "Requirement already satisfied: rsa>=3.1.4 in /usr/local/lib/python3.6/dist-packages (from oauth2client>=4.0.0->PyDrive) (4.0)\n",
            "Requirement already satisfied: pyasn1-modules>=0.0.5 in /usr/local/lib/python3.6/dist-packages (from oauth2client>=4.0.0->PyDrive) (0.2.4)\n",
            "Requirement already satisfied: pyasn1>=0.1.7 in /usr/local/lib/python3.6/dist-packages (from oauth2client>=4.0.0->PyDrive) (0.4.5)\n"
          ],
          "name": "stdout"
        }
      ]
    },
    {
      "metadata": {
        "id": "MsY_k4SeEAf1",
        "colab_type": "text"
      },
      "cell_type": "markdown",
      "source": [
        "# Download dataset\n",
        "Download Face Detection Data Set and Benchmark (FDDB) from Google Drive and unzip.\n",
        "Original dataset link: http://vis-www.cs.umass.edu/fddb/index.html"
      ]
    },
    {
      "metadata": {
        "id": "n7oyUe5bDIXa",
        "colab_type": "code",
        "colab": {}
      },
      "cell_type": "code",
      "source": [
        "# FDDB annotation files id=1HBIPoRFYK763kgOeHG011NAYWdox1Q2Z\n",
        "download = drive.CreateFile({'id': '1HBIPoRFYK763kgOeHG011NAYWdox1Q2Z'})\n",
        "download.GetContentFile('FDDB-folds.tgz')\n",
        "!mkdir -p dataset/FDDB/FDDB-folds\n",
        "!tar xzf FDDB-folds.tgz -C dataset/FDDB/\n",
        "\n",
        "# FDDB image files id=1uEv2I4svspLRwvU-nMwQr7ZL1m5RhIYh\n",
        "download = drive.CreateFile({'id': '1uEv2I4svspLRwvU-nMwQr7ZL1m5RhIYh'})\n",
        "download.GetContentFile('originalPics.tar.gz')\n",
        "!mkdir -p dataset/FDDB/originalPics\n",
        "!tar xzf originalPics.tar.gz -C dataset/FDDB/originalPics/\n"
      ],
      "execution_count": 0,
      "outputs": []
    },
    {
      "metadata": {
        "id": "mkpfW9OpGxHB",
        "colab_type": "text"
      },
      "cell_type": "markdown",
      "source": [
        "#Run Face Detection on dataset"
      ]
    },
    {
      "metadata": {
        "id": "O4_470ndG0XD",
        "colab_type": "code",
        "colab": {
          "base_uri": "https://localhost:8080/",
          "height": 392
        },
        "outputId": "4b85472d-060d-43a6-e152-ea7cfd4a9fe8"
      },
      "cell_type": "code",
      "source": [
        "!pip install mtcnn\n",
        "import cv2\n",
        "import numpy as np\n",
        "import pandas as pd\n",
        "import itertools\n",
        "import progressbar\n",
        "import time\n",
        "from mtcnn.mtcnn import MTCNN\n",
        "\n",
        "detector = MTCNN()\n",
        "\n",
        "def face_detect(image):\n",
        "    \"\"\"\n",
        "    input: opencv image\n",
        "    return: <left_x top_y width height detection_score>\n",
        "    \"\"\"\n",
        "    dets = detector.detect_faces(image)\n",
        "    results = []\n",
        "    for det in dets:\n",
        "        results.append('{:.6f} {:.6f} {:.6f} {:.6f} {:.6f}'.format(det['box'][0],det['box'][1],det['box'][2],det['box'][3],det['confidence']))\n",
        "    return results\n",
        "\n",
        "#Test FDDB dataset which is placed in ../dataset/FDDB\n",
        "def test_fddb():\n",
        "    database_path = 'dataset/FDDB'\n",
        "    db_image_path = '{:s}/originalPics'.format(database_path)\n",
        "    db_annotation_path = '{:s}/FDDB-folds'.format(database_path)\n",
        "    n_fold = 10\n",
        "    for i in range(n_fold):\n",
        "        list_filename = '{:s}/FDDB-fold-{:02d}.txt'.format(db_annotation_path, i+1)\n",
        "        output_filename = '{:s}/FDDB-fold-{:02d}-result.txt'.format(db_annotation_path, i+1)\n",
        "        output_file = open(output_filename,mode='w')\n",
        "        print('\\r({:d}/{:d}) Detecting faces from image list in {:s} file'.format(i+1, n_fold, list_filename))\n",
        "        with progressbar.ProgressBar(maxval=len(open(list_filename).readlines())) as bar:\n",
        "            n = 0\n",
        "            with open(list_filename) as f:\n",
        "                for image_filename in f:\n",
        "                    bar.update(n)\n",
        "                    n += 1\n",
        "                    full_filename = '{:s}/{:s}.jpg'.format(db_image_path,image_filename.rstrip())\n",
        "                    output_file.write(image_filename)\n",
        "                    image_cv2 = cv2.imread(full_filename)\n",
        "                    results = face_detect(image_cv2)\n",
        "                    output_file.write('{:d}\\n'.format(len(results)))\n",
        "                    for result in results:\n",
        "                        output_file.write('{:s}\\n'.format(result))\n",
        "\n",
        "test_fddb()"
      ],
      "execution_count": 19,
      "outputs": [
        {
          "output_type": "stream",
          "text": [
            "Requirement already satisfied: mtcnn in /usr/local/lib/python3.6/dist-packages (0.0.8)\n"
          ],
          "name": "stdout"
        },
        {
          "output_type": "stream",
          "text": [
            "\r                                                                               \r\rN/A% (0 of 290) |                        | Elapsed Time: 0:00:00 ETA:  --:--:--"
          ],
          "name": "stderr"
        },
        {
          "output_type": "stream",
          "text": [
            "(1/10) Detecting faces from image list in dataset/FDDB/FDDB-folds/FDDB-fold-01.txt file\n"
          ],
          "name": "stdout"
        },
        {
          "output_type": "stream",
          "text": [
            "100% (290 of 290) |######################| Elapsed Time: 0:00:30 Time:  0:00:30\n",
            "  0% (1 of 285) |                        | Elapsed Time: 0:00:00 ETA:   0:00:42"
          ],
          "name": "stderr"
        },
        {
          "output_type": "stream",
          "text": [
            "(2/10) Detecting faces from image list in dataset/FDDB/FDDB-folds/FDDB-fold-02.txt file\n"
          ],
          "name": "stdout"
        },
        {
          "output_type": "stream",
          "text": [
            "100% (285 of 285) |######################| Elapsed Time: 0:00:18 Time:  0:00:18\n",
            "  0% (2 of 274) |                        | Elapsed Time: 0:00:00 ETA:   0:00:20"
          ],
          "name": "stderr"
        },
        {
          "output_type": "stream",
          "text": [
            "(3/10) Detecting faces from image list in dataset/FDDB/FDDB-folds/FDDB-fold-03.txt file\n"
          ],
          "name": "stdout"
        },
        {
          "output_type": "stream",
          "text": [
            "100% (274 of 274) |######################| Elapsed Time: 0:00:15 Time:  0:00:15\n",
            "  0% (3 of 302) |                        | Elapsed Time: 0:00:00 ETA:   0:00:13"
          ],
          "name": "stderr"
        },
        {
          "output_type": "stream",
          "text": [
            "(4/10) Detecting faces from image list in dataset/FDDB/FDDB-folds/FDDB-fold-04.txt file\n"
          ],
          "name": "stdout"
        },
        {
          "output_type": "stream",
          "text": [
            "100% (302 of 302) |######################| Elapsed Time: 0:00:17 Time:  0:00:17\n",
            "  1% (3 of 298) |                        | Elapsed Time: 0:00:00 ETA:   0:00:13"
          ],
          "name": "stderr"
        },
        {
          "output_type": "stream",
          "text": [
            "(5/10) Detecting faces from image list in dataset/FDDB/FDDB-folds/FDDB-fold-05.txt file\n"
          ],
          "name": "stdout"
        },
        {
          "output_type": "stream",
          "text": [
            "100% (298 of 298) |######################| Elapsed Time: 0:00:17 Time:  0:00:17\n",
            "  0% (2 of 302) |                        | Elapsed Time: 0:00:00 ETA:   0:00:18"
          ],
          "name": "stderr"
        },
        {
          "output_type": "stream",
          "text": [
            "(6/10) Detecting faces from image list in dataset/FDDB/FDDB-folds/FDDB-fold-06.txt file\n"
          ],
          "name": "stdout"
        },
        {
          "output_type": "stream",
          "text": [
            "100% (302 of 302) |######################| Elapsed Time: 0:00:15 Time:  0:00:15\n",
            "  1% (3 of 279) |                        | Elapsed Time: 0:00:00 ETA:   0:00:12"
          ],
          "name": "stderr"
        },
        {
          "output_type": "stream",
          "text": [
            "(7/10) Detecting faces from image list in dataset/FDDB/FDDB-folds/FDDB-fold-07.txt file\n"
          ],
          "name": "stdout"
        },
        {
          "output_type": "stream",
          "text": [
            "100% (279 of 279) |######################| Elapsed Time: 0:00:14 Time:  0:00:14\n",
            "  0% (2 of 276) |                        | Elapsed Time: 0:00:00 ETA:   0:00:15"
          ],
          "name": "stderr"
        },
        {
          "output_type": "stream",
          "text": [
            "(8/10) Detecting faces from image list in dataset/FDDB/FDDB-folds/FDDB-fold-08.txt file\n"
          ],
          "name": "stdout"
        },
        {
          "output_type": "stream",
          "text": [
            "100% (276 of 276) |######################| Elapsed Time: 0:00:14 Time:  0:00:14\n",
            "  1% (3 of 259) |                        | Elapsed Time: 0:00:00 ETA:   0:00:12"
          ],
          "name": "stderr"
        },
        {
          "output_type": "stream",
          "text": [
            "(9/10) Detecting faces from image list in dataset/FDDB/FDDB-folds/FDDB-fold-09.txt file\n"
          ],
          "name": "stdout"
        },
        {
          "output_type": "stream",
          "text": [
            "100% (259 of 259) |######################| Elapsed Time: 0:00:13 Time:  0:00:13\n",
            "  0% (2 of 280) |                        | Elapsed Time: 0:00:00 ETA:   0:00:16"
          ],
          "name": "stderr"
        },
        {
          "output_type": "stream",
          "text": [
            "(10/10) Detecting faces from image list in dataset/FDDB/FDDB-folds/FDDB-fold-10.txt file\n"
          ],
          "name": "stdout"
        },
        {
          "output_type": "stream",
          "text": [
            "100% (280 of 280) |######################| Elapsed Time: 0:00:14 Time:  0:00:14\n"
          ],
          "name": "stderr"
        }
      ]
    }
  ]
}